{
 "cells": [
  {
   "cell_type": "code",
   "execution_count": 1,
   "metadata": {},
   "outputs": [],
   "source": [
    "import PIL\n",
    "from PIL import ImageGrab\n",
    "import time \n",
    "import numpy as np\n",
    "import cv2"
   ]
  },
  {
   "cell_type": "code",
   "execution_count": 2,
   "metadata": {},
   "outputs": [],
   "source": [
    "def pic_shot(x1, y1, x2, y2, fname=None):\n",
    "    beg = time.time()\n",
    "    img = ImageGrab.grab(bbox=(x1, y1, x2, y2))\n",
    "    # img = np.array(img.getdata(), np.uint8).reshape(img.size[1], img.size[0], 3)\n",
    "    if fname:\n",
    "        img.save(fname)\n",
    "    end = time.time()\n",
    "    # print('[SHOT {}] Get pic: {}, Time Use: {} s'.format(time.strftime('%H:%M:%S'), fname, end - beg))\n",
    "    return img"
   ]
  },
  {
   "cell_type": "code",
   "execution_count": 3,
   "metadata": {},
   "outputs": [],
   "source": [
    "def echo_info(name, info):\n",
    "    print('[{} {}] '.format(name, time.strftime('%H:%M:%S')) + info)"
   ]
  },
  {
   "cell_type": "code",
   "execution_count": 4,
   "metadata": {},
   "outputs": [],
   "source": [
    "def getColor(img, x, y):\n",
    "    # h(y)*w(x)*3\n",
    "    img = np.array(img)\n",
    "    pix = img[y][x]\n",
    "    # img[y][x] = (230, 0, 0)\n",
    "    # pix = PIL.Image.fromarray(img)\n",
    "    return pix"
   ]
  },
  {
   "cell_type": "code",
   "execution_count": 5,
   "metadata": {},
   "outputs": [],
   "source": [
    "RESIZE_W = 9\n",
    "RESIZE_H = 8\n",
    "\n",
    "def get_hash(img):\n",
    "    small_img = img.resize((RESIZE_W, RESIZE_H))\n",
    "    small_img.save('tmp1.jpg')\n",
    "    gray_img = small_img.convert(\"L\")\n",
    "    gray_img.save('tmp2.jpg')\n",
    "    pixels = list(gray_img.getdata())\n",
    "    diff = []\n",
    "    for row in range(RESIZE_H):    \n",
    "        row_start_index = row * RESIZE_W    \n",
    "        for col in range(RESIZE_W - 1):        \n",
    "            left_pixel_index = row_start_index + col\n",
    "            diff.append(pixels[left_pixel_index] > pixels[left_pixel_index + 1])\n",
    "\n",
    "    decimal_value = 0\n",
    "    hash_string = \"\"\n",
    "    for index, value in enumerate(diff):    \n",
    "        if value:       \n",
    "            decimal_value += value * (2 ** (index % 8))   \n",
    "        if index % 8 == 7:      \n",
    "            hash_string += str(hex(decimal_value)[2:].rjust(2, \"0\"))       \n",
    "            decimal_value = 0\n",
    "    return hash_string\n",
    "\n",
    "\n",
    "def compare_img(img1, img2):\n",
    "    dhash1 = get_hash(img1)\n",
    "    dhash2 = get_hash(img2)\n",
    "\n",
    "    # calculate hamming distance:\n",
    "    diff = (int(dhash1, 16)) ^ (int(dhash2, 16))\n",
    "    return bin(diff).count(\"1\")\n",
    "\n"
   ]
  },
  {
   "cell_type": "code",
   "execution_count": 6,
   "metadata": {},
   "outputs": [],
   "source": [
    "def get_global_color(img):\n",
    "    img = np.array(img)\n",
    "    color = [a[:, :, x].mean() for x in range(3)]\n",
    "    return np.array(color)\n",
    "\n",
    "def compare_RGB(img1, img2):\n",
    "    c1 = get_global_color(img1)\n",
    "    c2 = get_global_color(img2)\n",
    "    return np.sqrt(np.sum([(c1[i]-c2[i])**2 for i in range(3)]))"
   ]
  },
  {
   "cell_type": "code",
   "execution_count": 9,
   "metadata": {},
   "outputs": [],
   "source": [
    "def aHash(img):\n",
    "    img = np.array(img)\n",
    "    img=cv2.resize(img,(8,8),interpolation=cv2.INTER_CUBIC)\n",
    "    gray=cv2.cvtColor(img,cv2.COLOR_BGR2GRAY)\n",
    "    s=0\n",
    "    hash_str=''\n",
    "    for i in range(8):\n",
    "        for j in range(8):\n",
    "            s=s+gray[i,j]\n",
    "    avg=s/64\n",
    "    for i in range(8):\n",
    "        for j in range(8):\n",
    "            if  gray[i,j]>avg:\n",
    "                hash_str=hash_str+'1'\n",
    "            else:\n",
    "                hash_str=hash_str+'0'            \n",
    "    return hash_str\n",
    "\n",
    "def dHash(img):\n",
    "    img = np.array(img)\n",
    "    img=cv2.resize(img,(9,8),interpolation=cv2.INTER_CUBIC)\n",
    "    gray=cv2.cvtColor(img,cv2.COLOR_BGR2GRAY)\n",
    "    hash_str=''\n",
    "    for i in range(8):\n",
    "        for j in range(8):\n",
    "            if   gray[i,j]>gray[i,j+1]:\n",
    "                hash_str=hash_str+'1'\n",
    "            else:\n",
    "                hash_str=hash_str+'0'\n",
    "    return hash_str\n",
    "\n",
    "def cmpHash(hash1,hash2):\n",
    "    n=0\n",
    "    if len(hash1)!=len(hash2):\n",
    "        return -1\n",
    "    for i in range(len(hash1)):\n",
    "        if hash1[i]!=hash2[i]:\n",
    "            n=n+1\n",
    "    return n\n",
    "\n",
    "def compare_img_new(img1, img2, algo):\n",
    "    hash = aHash if algo==0 else dHash\n",
    "    h1 = hash(img1)\n",
    "    h2 = hash(img2)\n",
    "    return cmpHash(h1, h2)"
   ]
  },
  {
   "cell_type": "code",
   "execution_count": 8,
   "metadata": {},
   "outputs": [
    {
     "data": {
      "text/plain": [
       "array([[6.17512828e-01, 4.56896415e-01, 1.55498587e-01, 8.43830864e-01,\n",
       "        8.30908749e-01, 8.63114519e-01, 3.33539797e-01, 1.00245031e-01,\n",
       "        4.29706345e-03, 3.30451483e-01],\n",
       "       [1.79526887e-01, 5.81903263e-01, 1.29551396e-01, 9.72441932e-01,\n",
       "        6.22665785e-02, 5.45157601e-01, 4.47078365e-01, 8.30902862e-01,\n",
       "        1.00950850e-01, 7.02643284e-01],\n",
       "       [4.87234936e-01, 7.18813764e-01, 8.77723924e-01, 7.69360315e-01,\n",
       "        3.21836227e-01, 7.66044563e-01, 9.78362778e-01, 7.94329589e-01,\n",
       "        4.64349787e-01, 6.89676202e-02],\n",
       "       [1.06596922e-01, 2.82286469e-01, 6.43072091e-01, 2.35708670e-01,\n",
       "        4.77537787e-01, 3.71206372e-01, 3.17809586e-01, 9.56898938e-01,\n",
       "        5.96031686e-01, 6.57388582e-01],\n",
       "       [4.18208412e-01, 9.53108486e-01, 9.05687824e-04, 2.70963218e-02,\n",
       "        2.55817604e-01, 2.99995957e-01, 4.03733975e-01, 9.09817121e-01,\n",
       "        9.20961709e-01, 3.56275351e-01]])"
      ]
     },
     "execution_count": 8,
     "metadata": {},
     "output_type": "execute_result"
    }
   ],
   "source": [
    "a = np.random.random((5, 10, 3))\n",
    "b = np.ones((5, 10, 3))\n",
    "# [a[:, :, x].mean() for x in range(3)]\n",
    "compare_RGB(a, b)\n",
    "a[:, :, 0]"
   ]
  }
 ],
 "metadata": {
  "kernelspec": {
   "display_name": "Python 3",
   "language": "python",
   "name": "python3"
  },
  "language_info": {
   "codemirror_mode": {
    "name": "ipython",
    "version": 3
   },
   "file_extension": ".py",
   "mimetype": "text/x-python",
   "name": "python",
   "nbconvert_exporter": "python",
   "pygments_lexer": "ipython3",
   "version": "3.6.3"
  }
 },
 "nbformat": 4,
 "nbformat_minor": 2
}
