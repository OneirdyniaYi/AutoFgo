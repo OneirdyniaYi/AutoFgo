{
 "cells": [
  {
   "cell_type": "code",
   "execution_count": 2,
   "metadata": {},
   "outputs": [],
   "source": [
    "import PIL\n",
    "from PIL import ImageGrab\n",
    "import time \n",
    "import numpy as np\n",
    "import cv2"
   ]
  },
  {
   "cell_type": "code",
   "execution_count": 3,
   "metadata": {},
   "outputs": [],
   "source": [
    "def pic_shot(x1, y1, x2, y2, fname=None):\n",
    "    beg = time.time()\n",
    "    img = ImageGrab.grab(bbox=(x1, y1, x2, y2))\n",
    "    # img = np.array(img.getdata(), np.uint8).reshape(img.size[1], img.size[0], 3)\n",
    "    if fname:\n",
    "        img.save(fname)\n",
    "    end = time.time()\n",
    "    # print('[SHOT {}] Get pic: {}, Time Use: {} s'.format(time.strftime('%H:%M:%S'), fname, end - beg))\n",
    "    return img"
   ]
  },
  {
   "cell_type": "code",
   "execution_count": 4,
   "metadata": {},
   "outputs": [],
   "source": [
    "def echo_info(name, info):\n",
    "    print('[{} {}] '.format(name, time.strftime('%H:%M:%S')) + info)"
   ]
  },
  {
   "cell_type": "code",
   "execution_count": 5,
   "metadata": {},
   "outputs": [],
   "source": [
    "def getColor(img, x, y):\n",
    "    # h(y)*w(x)*3\n",
    "    img = np.array(img)\n",
    "    pix = img[y][x]\n",
    "    # img[y][x] = (230, 0, 0)\n",
    "    # pix = PIL.Image.fromarray(img)\n",
    "    return pix"
   ]
  },
  {
   "cell_type": "code",
   "execution_count": 6,
   "metadata": {},
   "outputs": [],
   "source": [
    "RESIZE_W = 9\n",
    "RESIZE_H = 8\n",
    "\n",
    "def get_hash(img):\n",
    "    small_img = img.resize((RESIZE_W, RESIZE_H))\n",
    "    small_img.save('tmp1.jpg')\n",
    "    gray_img = small_img.convert(\"L\")\n",
    "    gray_img.save('tmp2.jpg')\n",
    "    pixels = list(gray_img.getdata())\n",
    "    diff = []\n",
    "    for row in range(RESIZE_H):    \n",
    "        row_start_index = row * RESIZE_W    \n",
    "        for col in range(RESIZE_W - 1):        \n",
    "            left_pixel_index = row_start_index + col\n",
    "            diff.append(pixels[left_pixel_index] > pixels[left_pixel_index + 1])\n",
    "\n",
    "    decimal_value = 0\n",
    "    hash_string = \"\"\n",
    "    for index, value in enumerate(diff):    \n",
    "        if value:       \n",
    "            decimal_value += value * (2 ** (index % 8))   \n",
    "        if index % 8 == 7:      \n",
    "            hash_string += str(hex(decimal_value)[2:].rjust(2, \"0\"))       \n",
    "            decimal_value = 0\n",
    "    return hash_string\n",
    "\n",
    "\n",
    "def compare_img(img1, img2):\n",
    "    dhash1 = get_hash(img1)\n",
    "    dhash2 = get_hash(img2)\n",
    "\n",
    "    # calculate hamming distance:\n",
    "    diff = (int(dhash1, 16)) ^ (int(dhash2, 16))\n",
    "    return bin(diff).count(\"1\")\n",
    "\n"
   ]
  },
  {
   "cell_type": "code",
   "execution_count": 7,
   "metadata": {},
   "outputs": [],
   "source": [
    "def get_global_color(img):\n",
    "    img = np.array(img)\n",
    "    color = [a[:, :, x].mean() for x in range(3)]\n",
    "    return np.array(color)\n",
    "\n",
    "def compare_RGB(img1, img2):\n",
    "    c1 = get_global_color(img1)\n",
    "    c2 = get_global_color(img2)\n",
    "    return np.sqrt(np.sum([(c1[i]-c2[i])**2 for i in range(3)]))"
   ]
  },
  {
   "cell_type": "code",
   "execution_count": 8,
   "metadata": {},
   "outputs": [],
   "source": [
    "def aHash(img):\n",
    "    img = np.array(img)\n",
    "    img=cv2.resize(img,(8,8),interpolation=cv2.INTER_CUBIC)\n",
    "    gray=cv2.cvtColor(img,cv2.COLOR_BGR2GRAY)\n",
    "    s=0\n",
    "    hash_str=''\n",
    "    for i in range(8):\n",
    "        for j in range(8):\n",
    "            s=s+gray[i,j]\n",
    "    avg=s/64\n",
    "    for i in range(8):\n",
    "        for j in range(8):\n",
    "            if  gray[i,j]>avg:\n",
    "                hash_str=hash_str+'1'\n",
    "            else:\n",
    "                hash_str=hash_str+'0'            \n",
    "    return hash_str\n",
    "\n",
    "def dHash(img):\n",
    "    img = np.array(img)\n",
    "    img=cv2.resize(img,(9,8),interpolation=cv2.INTER_CUBIC)\n",
    "    gray=cv2.cvtColor(img,cv2.COLOR_BGR2GRAY)\n",
    "    hash_str=''\n",
    "    for i in range(8):\n",
    "        for j in range(8):\n",
    "            if   gray[i,j]>gray[i,j+1]:\n",
    "                hash_str=hash_str+'1'\n",
    "            else:\n",
    "                hash_str=hash_str+'0'\n",
    "    return hash_str\n",
    "\n",
    "def cmpHash(hash1,hash2):\n",
    "    n=0\n",
    "    if len(hash1)!=len(hash2):\n",
    "        return -1\n",
    "    for i in range(len(hash1)):\n",
    "        if hash1[i]!=hash2[i]:\n",
    "            n=n+1\n",
    "    return n\n",
    "\n",
    "def compare_img_new(img1, img2, algo):\n",
    "    hash = aHash if algo==0 else dHash\n",
    "    h1 = hash(img1)\n",
    "    h2 = hash(img2)\n",
    "    return cmpHash(h1, h2)"
   ]
  }
 ],
 "metadata": {
  "kernelspec": {
   "display_name": "Python 3",
   "language": "python",
   "name": "python3"
  },
  "language_info": {
   "codemirror_mode": {
    "name": "ipython",
    "version": 3
   },
   "file_extension": ".py",
   "mimetype": "text/x-python",
   "name": "python",
   "nbconvert_exporter": "python",
   "pygments_lexer": "ipython3",
   "version": "3.6.3"
  }
 },
 "nbformat": 4,
 "nbformat_minor": 2
}
