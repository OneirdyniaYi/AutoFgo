{
 "cells": [
  {
   "cell_type": "code",
   "execution_count": 7,
   "metadata": {},
   "outputs": [],
   "source": [
    "import PIL\n",
    "from PIL import ImageGrab\n",
    "import time \n",
    "import ctypes\n",
    "import numpy as np"
   ]
  },
  {
   "cell_type": "code",
   "execution_count": 48,
   "metadata": {},
   "outputs": [],
   "source": [
    "def pic_shot(x1, y1, x2, y2, fname=None):\n",
    "    beg = time.time()\n",
    "    img = ImageGrab.grab(bbox=(x1, y1, x2, y2))\n",
    "    # img = np.array(img.getdata(), np.uint8).reshape(img.size[1], img.size[0], 3)\n",
    "    if fname:\n",
    "        img.save(fname)\n",
    "    end = time.time()\n",
    "    print('[SHOT {}] Get pic: {}, Time Use: {} s'.format(time.strftime('%H:%M:%S'), fname, end - beg))\n",
    "    return img"
   ]
  },
  {
   "cell_type": "code",
   "execution_count": 46,
   "metadata": {},
   "outputs": [],
   "source": [
    "def getColor(img, x, y):\n",
    "    # h(y)*w(x)*3\n",
    "    img = np.array(img)\n",
    "    pix = img[y][x]\n",
    "    # img[y][x] = (230, 0, 0)\n",
    "    # pix = PIL.Image.fromarray(img)\n",
    "    return pix"
   ]
  },
  {
   "cell_type": "code",
   "execution_count": 49,
   "metadata": {},
   "outputs": [
    {
     "name": "stdout",
     "output_type": "stream",
     "text": [
      "[SHOT 18:28:40] Get pic: None, Time Use: 0.06183505058288574 s\n"
     ]
    },
    {
     "data": {
      "text/plain": [
       "array([242, 242, 242], dtype=uint8)"
      ]
     },
     "execution_count": 49,
     "metadata": {},
     "output_type": "execute_result"
    }
   ],
   "source": [
    "img = pic_shot(0, 0, 100, 50)\n",
    "getColor(img, 10, 45)"
   ]
  }
 ],
 "metadata": {
  "kernelspec": {
   "display_name": "Python 3",
   "language": "python",
   "name": "python3"
  },
  "language_info": {
   "codemirror_mode": {
    "name": "ipython",
    "version": 3
   },
   "file_extension": ".py",
   "mimetype": "text/x-python",
   "name": "python",
   "nbconvert_exporter": "python",
   "pygments_lexer": "ipython3",
   "version": "3.6.3"
  }
 },
 "nbformat": 4,
 "nbformat_minor": 2
}
