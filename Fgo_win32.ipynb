{
 "cells": [
  {
   "cell_type": "code",
   "execution_count": 33,
   "metadata": {},
   "outputs": [],
   "source": [
    "import win32api, win32con, win32gui, win32ui\n",
    "from PIL import ImageGrab\n",
    "import time\n",
    "from config import *\n",
    "from utils import Color, pic_shot"
   ]
  },
  {
   "cell_type": "code",
   "execution_count": 34,
   "metadata": {},
   "outputs": [],
   "source": [
    "def pic_shot(x1, y1, x2, y2, fname):\n",
    "    beg = time.time()\n",
    "    img = ImageGrab.grab(bbox=(x1, y1, x2, y2))\n",
    "    # img = np.array(img.getdata(), np.uint8).reshape(img.size[1], img.size[0], 3)\n",
    "    img.save(fname)\n",
    "    end = time.time()\n",
    "    print('[Screen Shot] Get pic: {}, Time Use: {} s'.format(fname, end - beg))\n",
    "    return img"
   ]
  },
  {
   "cell_type": "code",
   "execution_count": 35,
   "metadata": {},
   "outputs": [],
   "source": [
    "class Cursor(object):\n",
    "    def __init__(self, init_pos):\n",
    "        # init_pos：should be a tuple, set `False` to skip initing position.\n",
    "        if init_pos!=False and len(init_pos)==2:\n",
    "            self.move_to(init_pos)\n",
    "    \n",
    "    def move_to(self, pos):\n",
    "        win32api.SetCursorPos(pos)\n",
    "    \n",
    "    def get_pos(self):\n",
    "        return win32api.GetCursorPos()\n",
    "    \n",
    "    def click(self):\n",
    "        win32api.mouse_event(win32con.MOUSEEVENTF_LEFTDOWN, 0, 0, 0, 0)\n",
    "        win32api.mouse_event(win32con.MOUSEEVENTF_LEFTUP, 0, 0, 0, 0)\n",
    "    \n",
    "    def right_click(self):\n",
    "        win32api.mouse_event(win32con.MOUSEEVENTF_RIGHTDOWN, 0, 0, 0, 0) \n",
    "        win32api.mouse_event(win32con.MOUSEEVENTF_RIGHTUP, 0, 0, 0, 0)"
   ]
  },
  {
   "cell_type": "code",
   "execution_count": 38,
   "metadata": {},
   "outputs": [],
   "source": [
    "class Fgo(object):\n",
    "    def __init__(self, full_screen=True, supNo=8):\n",
    "        # [init by yourself] put cursor at the down-right position of the game window.\n",
    "        self.coloer = Color()\n",
    "        if full_screen:\n",
    "            self.height = win32api.GetSystemMetrics(win32con.SM_CYSCREEN)\n",
    "            self.width = win32api.GetSystemMetrics(win32con.SM_CXSCREEN)\n",
    "            self.scr_pos1 = (0, 0)\n",
    "            self.scr_pos2 = (self.width, self.height)\n",
    "            self.c = Cursor(init_pos=False)\n",
    "        \n",
    "        else:\n",
    "            self.c = Cursor(init_pos=False)\n",
    "            while 1:\n",
    "                input('[INFO {}] Move cursor to the top-left cornor of Fgo screen, and press ENTER:'.format(time.strftime('%H:%M:%S')))\n",
    "                self.scr_pos1 = self.c.get_pos()\n",
    "                print('[INFO {}] Get cursor at {}'.format(time.strftime('%H:%M:%S'), self.scr_pos1))\n",
    "                \n",
    "                input('[INFO {}] Move cursor to the down-right cornor of Fgo screen, and press ENTER:'.format(time.strftime('%H:%M:%S')))\n",
    "                self.scr_pos2 = self.c.get_pos()\n",
    "                print('[INFO {}] Get cursor at {}'.format(time.strftime('%H:%M:%S'), self.scr_pos2))\n",
    "                \n",
    "                res = input('[INFO {}] Continue?[y/n](y to continue, n to reset cursor):'.format(time.strftime('%H:%M:%S')))\n",
    "                if res == 'n':\n",
    "                    continue\n",
    "                else: \n",
    "                    break\n",
    "            \n",
    "            self.width = abs(self.scr_pos2[0] - self.scr_pos1[0])\n",
    "            self.height = abs(self.scr_pos2[1] - self.scr_pos1[1])\n",
    "        \n",
    "        #---------------------position info-----------------------\n",
    "        # postion of the center of battle tag.\n",
    "        self.bat_tag_y = 0.2740\n",
    "        self.bat_tag_x = 0.7252\n",
    "        \n",
    "        # postion of support servant tag.\n",
    "        self.sup_tag_x = 0.4893\n",
    "        self.sup_tag_y = 0.3944\n",
    "        \n",
    "        # postion of support class icon.\n",
    "        self.sup_ico_x = 0.0729+0.0527*supNo\n",
    "        self.sup_ico_y = 0.1796\n",
    "        \n",
    "        # postion of `mission start` tag\n",
    "        self.start_x = 0.9281\n",
    "        self.start_y = 0.9398\n",
    "        \n",
    "        # postion of samples:\n",
    "        self.sample1_x = 0.8854\n",
    "        self.sample1_y = 0.7824\n",
    "        self.sample1_RGB = np.array([0, 0, 0])\n",
    "        \n",
    "        print('\\n---------------------[init over]---------------------------')\n",
    "        print('[DEBUG {}] Window width(x) = {}, height(y) = {}'.format(time.strftime('%H:%M:%S'), self.width, self.height))\n",
    "        \n",
    "    \n",
    "    def _set(self, float_x, float_y):\n",
    "        # input type: float\n",
    "        return int(self.scr_pos1[0]+self.width*float_x), int(self.scr_pos1[1]+self.height*float_y)\n",
    "    \n",
    "    def click_act(self, float_x, float_y, sleep_time, click=True):\n",
    "        pos = self._set(float_x, float_y)\n",
    "        self.c.move_to(pos)\n",
    "        if click:\n",
    "            self.c.click()\n",
    "        print('[INFO {}] simulate click at position: {}'.format(time.strftime('%H:%M:%S'), pos))\n",
    "        time.sleep(sleep_time)\n",
    "    \n",
    "    def enter_battle(self):\n",
    "        # [init by yourself] put the tag of battle at the top of screen.\n",
    "        self.click_act(self.bat_tag_x, self.bat_tag_y, 1.5)\n",
    "        \n",
    "        # choose support:\n",
    "        self.click_act(self.sup_ico_x, self.sup_ico_y, 0.7)\n",
    "        self.click_act(self.sup_tag_x, self.sup_tag_y, 1.5)\n",
    "        \n",
    "        # game start\n",
    "        self.click_act(self.start_x, self.start_y, 3)\n",
    "        \n",
    "    def compare_RGB(target, x, y):\n",
    "        '''\n",
    "        - x, y: position of pix in Fgo window .\n",
    "        - target: a numpy array of target RGB value.\n",
    "        '''\n",
    "        \n",
    "        "
   ]
  },
  {
   "cell_type": "code",
   "execution_count": 39,
   "metadata": {},
   "outputs": [
    {
     "name": "stdout",
     "output_type": "stream",
     "text": [
      "\n",
      "---------------------[init over]---------------------------\n",
      "[DEBUG 15:18:54] Window width(x) = 1536, height(y) = 864\n",
      "[INFO 15:18:54] simulate click at position: (1113, 236)\n",
      "[INFO 15:18:56] simulate click at position: (678, 155)\n",
      "[INFO 15:18:57] simulate click at position: (751, 340)\n",
      "[INFO 15:18:59] simulate click at position: (1425, 811)\n"
     ]
    }
   ],
   "source": [
    "fgo = Fgo(full_screen=FULL_SCREEN, supNo=SUPPORT)\n",
    "fgo.enter_battle()"
   ]
  },
  {
   "cell_type": "code",
   "execution_count": 32,
   "metadata": {},
   "outputs": [
    {
     "name": "stdout",
     "output_type": "stream",
     "text": [
      "1536 864\n"
     ]
    },
    {
     "data": {
      "text/plain": [
       "(1534, 832)"
      ]
     },
     "execution_count": 32,
     "metadata": {},
     "output_type": "execute_result"
    }
   ],
   "source": [
    "'''w = win32api.GetSystemMetrics(win32con.SM_CXSCREEN)\n",
    "h = win32api.GetSystemMetrics(win32con.SM_CYSCREEN)\n",
    "print(w, h)\n",
    "c = Cursor(init_pos=False)\n",
    "c.get_pos()\n",
    "# c = Cursor(init_pos=False)\n",
    "# c.right_click()\n",
    "#c.move_to((w, h))'''"
   ]
  }
 ],
 "metadata": {
  "kernelspec": {
   "display_name": "Python 3",
   "language": "python",
   "name": "python3"
  },
  "language_info": {
   "codemirror_mode": {
    "name": "ipython",
    "version": 3
   },
   "file_extension": ".py",
   "mimetype": "text/x-python",
   "name": "python",
   "nbconvert_exporter": "python",
   "pygments_lexer": "ipython3",
   "version": "3.6.3"
  }
 },
 "nbformat": 4,
 "nbformat_minor": 2
}
