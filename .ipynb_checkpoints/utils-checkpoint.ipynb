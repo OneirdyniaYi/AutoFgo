{
 "cells": [
  {
   "cell_type": "code",
   "execution_count": 5,
   "metadata": {},
   "outputs": [],
   "source": [
    "import PIL\n",
    "from PIL import ImageGrab\n",
    "import time \n",
    "import numpy as np"
   ]
  },
  {
   "cell_type": "code",
   "execution_count": 6,
   "metadata": {},
   "outputs": [],
   "source": [
    "def pic_shot(x1, y1, x2, y2, fname=None):\n",
    "    beg = time.time()\n",
    "    img = ImageGrab.grab(bbox=(x1, y1, x2, y2))\n",
    "    # img = np.array(img.getdata(), np.uint8).reshape(img.size[1], img.size[0], 3)\n",
    "    if fname:\n",
    "        img.save(fname)\n",
    "    end = time.time()\n",
    "    print('[SHOT {}] Get pic: {}, Time Use: {} s'.format(time.strftime('%H:%M:%S'), fname, end - beg))\n",
    "    return img"
   ]
  },
  {
   "cell_type": "code",
   "execution_count": 7,
   "metadata": {},
   "outputs": [],
   "source": [
    "def getColor(img, x, y):\n",
    "    # h(y)*w(x)*3\n",
    "    img = np.array(img)\n",
    "    pix = img[y][x]\n",
    "    # img[y][x] = (230, 0, 0)\n",
    "    # pix = PIL.Image.fromarray(img)\n",
    "    return pix"
   ]
  },
  {
   "cell_type": "code",
   "execution_count": 28,
   "metadata": {},
   "outputs": [],
   "source": [
    "RESIZE_W = 9\n",
    "RESIZE_H = 8\n",
    "\n",
    "def get_hash(img):\n",
    "    small_img = img.resize((RESIZE_W, RESIZE_H))\n",
    "    small_img.save('tmp1.jpg')\n",
    "    gray_img = small_img.convert(\"L\")\n",
    "    gray_img.save('tmp2.jpg')\n",
    "    pixels = list(gray_img.getdata())\n",
    "    diff = []\n",
    "    for row in range(RESIZE_H):    \n",
    "        row_start_index = row * RESIZE_W    \n",
    "        for col in range(RESIZE_W - 1):        \n",
    "            left_pixel_index = row_start_index + col\n",
    "            diff.append(pixels[left_pixel_index] > pixels[left_pixel_index + 1])\n",
    "\n",
    "    decimal_value = 0\n",
    "    hash_string = \"\"\n",
    "    for index, value in enumerate(diff):    \n",
    "        if value:       \n",
    "            decimal_value += value * (2 ** (index % 8))   \n",
    "        if index % 8 == 7:      \n",
    "            hash_string += str(hex(decimal_value)[2:].rjust(2, \"0\"))       \n",
    "            decimal_value = 0\n",
    "    return hash_string\n",
    "\n",
    "\n",
    "def compare_img(img1, img2):\n",
    "    dhash1 = get_hash(img1)\n",
    "    dhash2 = get_hash(img2)\n",
    "\n",
    "    # calculate hamming distance:\n",
    "    diff = (int(dhash1, 16)) ^ (int(dhash2, 16))\n",
    "    return bin(diff).count(\"1\")\n",
    "\n",
    "    \n"
   ]
  },
  {
   "cell_type": "code",
   "execution_count": 31,
   "metadata": {},
   "outputs": [
    {
     "name": "stdout",
     "output_type": "stream",
     "text": [
      "[SHOT 19:37:09] Get pic: None, Time Use: 0.053073883056640625 s\n",
      "[SHOT 19:37:09] Get pic: None, Time Use: 0.04909229278564453 s\n"
     ]
    },
    {
     "data": {
      "text/plain": [
       "10"
      ]
     },
     "execution_count": 31,
     "metadata": {},
     "output_type": "execute_result"
    }
   ],
   "source": [
    "# img = pic_shot(0, 0, 400, 200)\n",
    "# compare_img(img, img2)\n",
    "# getColor(img, 10, 45)\n"
   ]
  }
 ],
 "metadata": {
  "kernelspec": {
   "display_name": "Python 3",
   "language": "python",
   "name": "python3"
  },
  "language_info": {
   "codemirror_mode": {
    "name": "ipython",
    "version": 3
   },
   "file_extension": ".py",
   "mimetype": "text/x-python",
   "name": "python",
   "nbconvert_exporter": "python",
   "pygments_lexer": "ipython3",
   "version": "3.7.0"
  }
 },
 "nbformat": 4,
 "nbformat_minor": 2
}
