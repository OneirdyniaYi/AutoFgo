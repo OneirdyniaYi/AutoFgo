{
 "cells": [
  {
   "cell_type": "code",
   "execution_count": 7,
   "metadata": {},
   "outputs": [],
   "source": [
    "import PIL\n",
    "from PIL import ImageGrab\n",
    "import time \n",
    "import ctypes\n",
    "import numpy as np"
   ]
  },
  {
   "cell_type": "code",
   "execution_count": 48,
   "metadata": {},
   "outputs": [],
   "source": [
    "def pic_shot(x1, y1, x2, y2, fname=None):\n",
    "    beg = time.time()\n",
    "    img = ImageGrab.grab(bbox=(x1, y1, x2, y2))\n",
    "    # img = np.array(img.getdata(), np.uint8).reshape(img.size[1], img.size[0], 3)\n",
    "    if fname:\n",
    "        img.save(fname)\n",
    "    end = time.time()\n",
    "    print('[SHOT {}] Get pic: {}, Time Use: {} s'.format(time.strftime('%H:%M:%S'), fname, end - beg))\n",
    "    return img"
   ]
  },
  {
   "cell_type": "code",
   "execution_count": 46,
   "metadata": {},
   "outputs": [],
   "source": [
    "def getColor(img, x, y):\n",
    "    # h(y)*w(x)*3\n",
    "    img = np.array(img)\n",
    "    pix = img[y][x]\n",
    "    # img[y][x] = (230, 0, 0)\n",
    "    # pix = PIL.Image.fromarray(img)\n",
    "    return pix"
   ]
  },
  {
   "cell_type": "code",
   "execution_count": 49,
   "metadata": {},
   "outputs": [
    {
     "name": "stdout",
     "output_type": "stream",
     "text": [
      "[SHOT 18:28:40] Get pic: None, Time Use: 0.06183505058288574 s\n"
     ]
    },
    {
     "data": {
      "text/plain": [
       "array([242, 242, 242], dtype=uint8)"
      ]
     },
     "execution_count": 49,
     "metadata": {},
     "output_type": "execute_result"
    }
   ],
   "source": [
    "img = pic_shot(0, 0, 100, 50)\n",
    "getColor(img, 10, 45)"
   ]
  },
  {
   "cell_type": "code",
   "execution_count": null,
   "metadata": {},
   "outputs": [],
   "source": [
    "'''def window_capture_win32(filename):\n",
    "      hwnd = 0     # num of window.\n",
    "      hwndDC = win32gui.GetWindowDC(hwnd)\n",
    "      mfcDC = win32ui.CreateDCFromHandle(hwndDC)\n",
    "      saveDC = mfcDC.CreateCompatibleDC()\n",
    "      saveBitMap = win32ui.CreateBitmap()\n",
    "      # get monitor info.\n",
    "      # MoniterDev = win32api.EnumDisplayMonitors(None, None)\n",
    "      # w = MoniterDev[0][2][2]\n",
    "      # h = MoniterDev[0][2][3]\n",
    "      w = 500\n",
    "      h = 200\n",
    "      # create new space for bitmap.\n",
    "      saveBitMap.CreateCompatibleBitmap(mfcDC, w, h)\n",
    "      saveDC.SelectObject(saveBitMap)\n",
    "      # shot a (h, w) pic.\n",
    "      saveDC.BitBlt((100, 100), (w, h), mfcDC, (0, 100), win32con.SRCCOPY)\n",
    "      saveBitMap.SaveBitmapFile(saveDC, filename)\n",
    "\n",
    "STD_INPUT_HANDLE = -10\n",
    "STD_OUTPUT_HANDLE= -11\n",
    "STD_ERROR_HANDLE = -12\n",
    " \n",
    "FOREGROUND_BLACK = 0x0\n",
    "FOREGROUND_BLUE = 0x01 # text color contains blue.\n",
    "FOREGROUND_GREEN= 0x02 # text color contains green.\n",
    "FOREGROUND_RED = 0x04 # text color contains red.\n",
    "FOREGROUND_INTENSITY = 0x08 # text color is intensified.\n",
    " \n",
    "BACKGROUND_BLUE = 0x10 # background color contains blue.\n",
    "BACKGROUND_GREEN= 0x20 # background color contains green.\n",
    "BACKGROUND_RED = 0x40 # background color contains red.\n",
    "BACKGROUND_INTENSITY = 0x80 # background color is intensified.\n",
    " \n",
    "class Color:\n",
    "    std_out_handle = ctypes.windll.kernel32.GetStdHandle(STD_OUTPUT_HANDLE)\n",
    "    \n",
    "    def set_cmd_color(self, color, handle=std_out_handle):\n",
    "        bool = ctypes.windll.kernel32.SetConsoleTextAttribute(handle, color)\n",
    "        return bool\n",
    "    \n",
    "    def reset_color(self):\n",
    "        self.set_cmd_color(FOREGROUND_RED | FOREGROUND_GREEN | FOREGROUND_BLUE)\n",
    "    \n",
    "    def print_red(self, print_text):\n",
    "        self.set_cmd_color(FOREGROUND_RED | FOREGROUND_INTENSITY)\n",
    "        print(print_text)\n",
    "        self.reset_color()\n",
    "        \n",
    "    def print_green(self, print_text):\n",
    "        self.set_cmd_color(FOREGROUND_GREEN | FOREGROUND_INTENSITY)\n",
    "        print(print_text)'''"
   ]
  }
 ],
 "metadata": {
  "kernelspec": {
   "display_name": "Python 3",
   "language": "python",
   "name": "python3"
  },
  "language_info": {
   "codemirror_mode": {
    "name": "ipython",
    "version": 3
   },
   "file_extension": ".py",
   "mimetype": "text/x-python",
   "name": "python",
   "nbconvert_exporter": "python",
   "pygments_lexer": "ipython3",
   "version": "3.6.3"
  }
 },
 "nbformat": 4,
 "nbformat_minor": 2
}
